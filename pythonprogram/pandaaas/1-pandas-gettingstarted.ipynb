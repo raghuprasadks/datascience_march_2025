{
 "cells": [
  {
   "cell_type": "markdown",
   "id": "4b689155-a6b0-4fbe-b03c-6d22cf71228b",
   "metadata": {},
   "source": [
    "# Pandas \n",
    "\n",
    "A Python library used for working with data sets.\n",
    "\n",
    "It has functions for analyzing, cleaning, exploring, and manipulating data."
   ]
  },
  {
   "cell_type": "code",
   "execution_count": 1,
   "id": "886b4b39-3903-4cd6-b9e0-3ae15a8a5169",
   "metadata": {},
   "outputs": [
    {
     "name": "stdout",
     "output_type": "stream",
     "text": [
      "2.0.3\n"
     ]
    }
   ],
   "source": [
    "# To check version of pandas installed:\n",
    "\n",
    "import pandas as pd\n",
    "\n",
    "print(pd.__version__)"
   ]
  },
  {
   "cell_type": "markdown",
   "id": "1b491c2a-49e9-4495-a7a4-b116c7fc0641",
   "metadata": {},
   "source": [
    "# Pandas Series\n",
    "\n",
    "It is a one-dimensional array holding data of any type."
   ]
  },
  {
   "cell_type": "code",
   "execution_count": 6,
   "id": "c52af8cc-7a26-4067-b658-943b9926df0b",
   "metadata": {},
   "outputs": [
    {
     "name": "stdout",
     "output_type": "stream",
     "text": [
      "0    1\n",
      "1    7\n",
      "2    2\n",
      "dtype: int64\n"
     ]
    }
   ],
   "source": [
    "import pandas as pd\n",
    "\n",
    "a = [1, 7, 2]\n",
    "\n",
    "myvar = pd.Series(a)\n",
    "\n",
    "print(myvar)"
   ]
  },
  {
   "cell_type": "code",
   "execution_count": 8,
   "id": "97c71ad1-b127-41be-8c10-bfe365199333",
   "metadata": {},
   "outputs": [
    {
     "name": "stdout",
     "output_type": "stream",
     "text": [
      "2\n"
     ]
    }
   ],
   "source": [
    "# Labels\n",
    "# This label can be used to access a specified value.\n",
    "\n",
    "print(myvar[2])"
   ]
  },
  {
   "cell_type": "code",
   "execution_count": 3,
   "id": "488e5242-9d4e-4907-9f46-a546f6941788",
   "metadata": {},
   "outputs": [
    {
     "name": "stdout",
     "output_type": "stream",
     "text": [
      "x    1\n",
      "y    7\n",
      "z    2\n",
      "dtype: int64\n"
     ]
    }
   ],
   "source": [
    "# Naming/Creating the labels\n",
    "\n",
    "import pandas as pd\n",
    "\n",
    "a = [1, 7, 2]\n",
    "myvar = pd.Series(a, index = [\"x\", \"y\", \"z\"])\n",
    "print(myvar)\n"
   ]
  },
  {
   "cell_type": "code",
   "execution_count": 4,
   "id": "378ba4fe-69b0-46c2-b6a1-31edcb6ec81c",
   "metadata": {},
   "outputs": [
    {
     "name": "stdout",
     "output_type": "stream",
     "text": [
      "7\n"
     ]
    }
   ],
   "source": [
    "print(myvar[\"y\"])"
   ]
  },
  {
   "cell_type": "code",
   "execution_count": 6,
   "id": "07ae7599-80f6-4ed9-9548-de211a9bccf3",
   "metadata": {},
   "outputs": [
    {
     "name": "stdout",
     "output_type": "stream",
     "text": [
      "day1    400\n",
      "day2    500\n",
      "day3    600\n",
      "dtype: int64\n"
     ]
    }
   ],
   "source": [
    "# You can also use a key/value object, like a dictionary, when creating a Series.\n",
    "\n",
    "import pandas as pd\n",
    "\n",
    "calories = {\"day1\": 400, \"day2\": 500, \"day3\": 600}\n",
    "\n",
    "myvar = pd.Series(calories)\n",
    "\n",
    "print(myvar)"
   ]
  },
  {
   "cell_type": "markdown",
   "id": "7c4322ed-049f-4835-9832-8c380642d201",
   "metadata": {},
   "source": [
    "# Dataframes\n",
    "\n",
    "Data sets in Pandas are usually multi-dimensional tables, called DataFrames."
   ]
  },
  {
   "cell_type": "code",
   "execution_count": 17,
   "id": "ceba1559-b626-4de6-9bf9-8628bdd4a20f",
   "metadata": {},
   "outputs": [
    {
     "name": "stdout",
     "output_type": "stream",
     "text": [
      "   calories  duration\n",
      "0       420        50\n",
      "1       380        40\n",
      "2       390        45\n"
     ]
    }
   ],
   "source": [
    "# Create a DataFrame from two Series:\n",
    "\n",
    "import pandas as pd\n",
    "\n",
    "data = {\n",
    "  \"calories\": [420, 380, 390],\n",
    "  \"duration\": [50, 40, 45]\n",
    "}\n",
    "\n",
    "#load data into a DataFrame object:\n",
    "df = pd.DataFrame(data)\n",
    "\n",
    "print(df) "
   ]
  },
  {
   "cell_type": "code",
   "execution_count": 23,
   "id": "eee3e9f9-bbe5-4045-a572-e53c01e685d8",
   "metadata": {},
   "outputs": [
    {
     "name": "stdout",
     "output_type": "stream",
     "text": [
      "calories    420\n",
      "duration     50\n",
      "Name: 0, dtype: int64\n"
     ]
    }
   ],
   "source": [
    "#refer to the row index:\n",
    "\n",
    "print(df.loc[0])"
   ]
  },
  {
   "cell_type": "code",
   "execution_count": 24,
   "id": "6abc0603-b846-4be2-b56c-df45f5a8f7be",
   "metadata": {},
   "outputs": [
    {
     "name": "stdout",
     "output_type": "stream",
     "text": [
      "   calories  duration\n",
      "0       420        50\n",
      "1       380        40\n"
     ]
    }
   ],
   "source": [
    "#use a list of indexes:\n",
    "\n",
    "print(df.loc[[0, 1]])"
   ]
  },
  {
   "cell_type": "code",
   "execution_count": 7,
   "id": "3a803b90-f428-4a3d-a0e9-b7c9c3cf0774",
   "metadata": {},
   "outputs": [
    {
     "name": "stdout",
     "output_type": "stream",
     "text": [
      "      name  math_score  science_score  total_score\n",
      "0    Alice          85             88          173\n",
      "1      Bob          78             74          152\n",
      "2  Charlie          92             95          187\n"
     ]
    }
   ],
   "source": [
    "import pandas as pd  \n",
    "\n",
    "# Data for students' test scores\n",
    "data = {\n",
    "    \"name\": [\"Alice\", \"Bob\", \"Charlie\"],\n",
    "    \"math_score\": [85, 78, 92],\n",
    "    \"science_score\": [88, 74, 95]\n",
    "}\n",
    "\n",
    "# Create a DataFrame\n",
    "df = pd.DataFrame(data)\n",
    "\n",
    "# Calculate the total score for each student\n",
    "df[\"total_score\"] = df[\"math_score\"] + df[\"science_score\"]\n",
    "\n",
    "# Print the DataFrame\n",
    "print(df)"
   ]
  },
  {
   "cell_type": "code",
   "execution_count": null,
   "id": "16889456-a9db-4162-a98a-8585c8ee1ab7",
   "metadata": {},
   "outputs": [],
   "source": []
  }
 ],
 "metadata": {
  "kernelspec": {
   "display_name": "Python 3 (ipykernel)",
   "language": "python",
   "name": "python3"
  },
  "language_info": {
   "codemirror_mode": {
    "name": "ipython",
    "version": 3
   },
   "file_extension": ".py",
   "mimetype": "text/x-python",
   "name": "python",
   "nbconvert_exporter": "python",
   "pygments_lexer": "ipython3",
   "version": "3.11.5"
  }
 },
 "nbformat": 4,
 "nbformat_minor": 5
}
