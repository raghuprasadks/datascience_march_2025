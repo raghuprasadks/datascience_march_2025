{
 "cells": [
  {
   "cell_type": "markdown",
   "id": "e9f15b11-3857-4244-81a1-ab935ec3e1e0",
   "metadata": {},
   "source": [
    "# Reading data from a CSV file"
   ]
  },
  {
   "cell_type": "code",
   "execution_count": 3,
   "id": "1cc60bfa-3a84-4772-8f44-0b3383e38d26",
   "metadata": {},
   "outputs": [
    {
     "name": "stdout",
     "output_type": "stream",
     "text": [
      "     Duration  Pulse  Maxpulse  Calories\n",
      "0          60    110       130     409.1\n",
      "1          60    117       145     479.0\n",
      "2          60    103       135     340.0\n",
      "3          45    109       175     282.4\n",
      "4          45    117       148     406.0\n",
      "..        ...    ...       ...       ...\n",
      "164        60    105       140     290.8\n",
      "165        60    110       145     300.0\n",
      "166        60    115       145     310.2\n",
      "167        75    120       150     320.4\n",
      "168        75    125       150     330.4\n",
      "\n",
      "[169 rows x 4 columns]\n"
     ]
    }
   ],
   "source": [
    "import pandas as pd\n",
    "\n",
    "df = pd.read_csv('data.csv')\n",
    "\n",
    "print(df) "
   ]
  },
  {
   "cell_type": "code",
   "execution_count": 2,
   "id": "7d98257b-8e63-450b-93e3-5637563b25d1",
   "metadata": {},
   "outputs": [
    {
     "ename": "NameError",
     "evalue": "name 'df' is not defined",
     "output_type": "error",
     "traceback": [
      "\u001b[1;31m---------------------------------------------------------------------------\u001b[0m",
      "\u001b[1;31mNameError\u001b[0m                                 Traceback (most recent call last)",
      "Cell \u001b[1;32mIn[2], line 2\u001b[0m\n\u001b[0;32m      1\u001b[0m \u001b[38;5;66;03m# to_string() to print the entire DataFrame.\u001b[39;00m\n\u001b[1;32m----> 2\u001b[0m \u001b[38;5;28mprint\u001b[39m(\u001b[43mdf\u001b[49m\u001b[38;5;241m.\u001b[39mto_string())\n",
      "\u001b[1;31mNameError\u001b[0m: name 'df' is not defined"
     ]
    }
   ],
   "source": [
    "# to_string() to print the entire DataFrame.\n",
    "print(df.to_string())"
   ]
  },
  {
   "cell_type": "code",
   "execution_count": 25,
   "id": "97321c0b-8c46-4eba-8512-c6bc23c9120a",
   "metadata": {},
   "outputs": [
    {
     "name": "stdout",
     "output_type": "stream",
     "text": [
      "<class 'pandas.core.frame.DataFrame'>\n",
      "RangeIndex: 169 entries, 0 to 168\n",
      "Data columns (total 4 columns):\n",
      " #   Column    Non-Null Count  Dtype  \n",
      "---  ------    --------------  -----  \n",
      " 0   Duration  169 non-null    int64  \n",
      " 1   Pulse     169 non-null    int64  \n",
      " 2   Maxpulse  169 non-null    int64  \n",
      " 3   Calories  164 non-null    float64\n",
      "dtypes: float64(1), int64(3)\n",
      "memory usage: 5.4 KB\n",
      "None\n"
     ]
    }
   ],
   "source": [
    "print(df.info()) "
   ]
  },
  {
   "cell_type": "code",
   "execution_count": 5,
   "id": "f4979efb-3294-40e2-98f7-fc697cb73017",
   "metadata": {},
   "outputs": [
    {
     "name": "stdout",
     "output_type": "stream",
     "text": [
      "   Duration  Pulse  Maxpulse  Calories\n",
      "0        60    110       130     409.1\n",
      "1        60    117       145     479.0\n",
      "2        60    103       135     340.0\n",
      "3        45    109       175     282.4\n",
      "4        45    117       148     406.0\n"
     ]
    }
   ],
   "source": [
    "# Display first 5 rows\n",
    "print(df.head())"
   ]
  },
  {
   "cell_type": "code",
   "execution_count": 21,
   "id": "f1082e77-7a66-4434-9bc2-0f7aaa4e9a91",
   "metadata": {},
   "outputs": [
    {
     "name": "stdout",
     "output_type": "stream",
     "text": [
      "      Product     Category  Price  Quantity\n",
      "0      Laptop  Electronics    800         5\n",
      "1  Smartphone  Electronics    500        10\n",
      "2  Headphones  Accessories     50        20\n",
      "3    Notebook   Stationery      5       100\n",
      "4         Pen   Stationery      2       200\n"
     ]
    }
   ],
   "source": [
    "# Display first 10 rows\n",
    "print(df.head(10))"
   ]
  },
  {
   "cell_type": "code",
   "execution_count": 9,
   "id": "62b91fa5-48cc-4d1c-b00b-c4fb1fffb162",
   "metadata": {},
   "outputs": [
    {
     "name": "stdout",
     "output_type": "stream",
     "text": [
      "     Duration  Pulse  Maxpulse  Calories\n",
      "164        60    105       140     290.8\n",
      "165        60    110       145     300.0\n",
      "166        60    115       145     310.2\n",
      "167        75    120       150     320.4\n",
      "168        75    125       150     330.4\n"
     ]
    }
   ],
   "source": [
    "# Display last 5 rows\n",
    "print(df.tail())"
   ]
  },
  {
   "cell_type": "code",
   "execution_count": null,
   "id": "bdb3fe78-206f-459c-b060-50443941abcd",
   "metadata": {},
   "outputs": [],
   "source": []
  },
  {
   "cell_type": "markdown",
   "id": "02b14b29-94aa-4fe2-854d-526efef152ac",
   "metadata": {},
   "source": [
    "# Read data from json"
   ]
  },
  {
   "cell_type": "code",
   "execution_count": 13,
   "id": "b6ee1340-2b81-43e1-8004-b8c568ecc8f2",
   "metadata": {},
   "outputs": [
    {
     "name": "stdout",
     "output_type": "stream",
     "text": [
      "      Product     Category  Price  Quantity\n",
      "0      Laptop  Electronics    800         5\n",
      "1  Smartphone  Electronics    500        10\n",
      "2  Headphones  Accessories     50        20\n",
      "3    Notebook   Stationery      5       100\n",
      "4         Pen   Stationery      2       200\n"
     ]
    }
   ],
   "source": [
    "\n",
    "import pandas as pd  \n",
    "\n",
    "# Load the JSON file into a DataFrame\n",
    "df = pd.read_json(\"json-data.json\")  \n",
    "\n",
    "# Display first 5 rows\n",
    "print(df)  "
   ]
  },
  {
   "cell_type": "code",
   "execution_count": 17,
   "id": "cd65275e-4772-420b-aed6-469e96b66fcd",
   "metadata": {},
   "outputs": [
    {
     "name": "stdout",
     "output_type": "stream",
     "text": [
      "0        Laptop\n",
      "1    Smartphone\n",
      "2    Headphones\n",
      "3      Notebook\n",
      "4           Pen\n",
      "Name: Product, dtype: object\n"
     ]
    }
   ],
   "source": [
    "print(df['Product'])"
   ]
  },
  {
   "cell_type": "code",
   "execution_count": 19,
   "id": "4a0231d8-c2a7-4704-8810-f294367ce251",
   "metadata": {},
   "outputs": [
    {
     "name": "stdout",
     "output_type": "stream",
     "text": [
      "Smartphone\n"
     ]
    }
   ],
   "source": [
    "print(df['Product'].loc[1])"
   ]
  },
  {
   "cell_type": "code",
   "execution_count": null,
   "id": "6f625cc9-e180-44fb-9adb-406911bbe1f5",
   "metadata": {},
   "outputs": [],
   "source": []
  }
 ],
 "metadata": {
  "kernelspec": {
   "display_name": "Python 3 (ipykernel)",
   "language": "python",
   "name": "python3"
  },
  "language_info": {
   "codemirror_mode": {
    "name": "ipython",
    "version": 3
   },
   "file_extension": ".py",
   "mimetype": "text/x-python",
   "name": "python",
   "nbconvert_exporter": "python",
   "pygments_lexer": "ipython3",
   "version": "3.11.5"
  }
 },
 "nbformat": 4,
 "nbformat_minor": 5
}
