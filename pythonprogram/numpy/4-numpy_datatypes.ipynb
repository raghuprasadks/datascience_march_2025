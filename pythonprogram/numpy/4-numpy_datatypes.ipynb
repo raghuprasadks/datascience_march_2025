{
 "cells": [
  {
   "cell_type": "markdown",
   "id": "8abac119-c903-4f86-aef3-55681c350e5e",
   "metadata": {},
   "source": [
    "\n",
    "# Numpy Data Types"
   ]
  },
  {
   "cell_type": "code",
   "execution_count": 1,
   "id": "4e53bd0c-76f9-4451-ba94-6ca6c4340c7b",
   "metadata": {},
   "outputs": [
    {
     "name": "stdout",
     "output_type": "stream",
     "text": [
      "int32\n"
     ]
    }
   ],
   "source": [
    "# data type of an array\n",
    "import numpy as np\n",
    "\n",
    "arr = np.array([1, 2, 3, 4])\n",
    "\n",
    "print(arr.dtype)"
   ]
  },
  {
   "cell_type": "code",
   "execution_count": 3,
   "id": "9cd11713-a76d-4f05-980e-8e8896a310d1",
   "metadata": {},
   "outputs": [
    {
     "name": "stdout",
     "output_type": "stream",
     "text": [
      "<U6\n"
     ]
    }
   ],
   "source": [
    "# data type of an array containing strings\n",
    "arr = np.array(['apple', 'banana', 'cherry'])\n",
    "\n",
    "print(arr.dtype) \n",
    "# <U6 means unicode with each element contains max 6 chars"
   ]
  },
  {
   "cell_type": "code",
   "execution_count": 4,
   "id": "46ea763e-58c2-4f5c-a935-9223664efb35",
   "metadata": {},
   "outputs": [
    {
     "name": "stdout",
     "output_type": "stream",
     "text": [
      "[b'1' b'2' b'4' b'5']\n",
      "|S1\n"
     ]
    }
   ],
   "source": [
    "# creating arrays with defined data type\n",
    "\n",
    "arr = np.array([1,2,4,5],dtype='S') #converts to string and stored in byte string \n",
    "print(arr)\n",
    "print(arr.dtype)  #op s1 --> each element is string and it is in 1 byte\n"
   ]
  },
  {
   "cell_type": "code",
   "execution_count": 2,
   "id": "9136705a-4502-4186-bac3-6d0db34987e0",
   "metadata": {},
   "outputs": [
    {
     "name": "stdout",
     "output_type": "stream",
     "text": [
      "[1 2 3 4]\n",
      "int32\n"
     ]
    }
   ],
   "source": [
    "arr = np.array([1, 2, 3, 4], dtype='i')\n",
    "\n",
    "print(arr)\n",
    "print(arr.dtype)   #4 byte int"
   ]
  },
  {
   "cell_type": "markdown",
   "id": "192da513-0272-4809-b41e-c7f021a64a01",
   "metadata": {},
   "source": [
    "# Converting Data Type on Existing Arrays"
   ]
  },
  {
   "cell_type": "code",
   "execution_count": 6,
   "id": "0e37ec13-b272-4e2a-8eaf-f9cbe6288778",
   "metadata": {},
   "outputs": [
    {
     "name": "stdout",
     "output_type": "stream",
     "text": [
      "[1 2 3]\n",
      "int32\n"
     ]
    }
   ],
   "source": [
    "\n",
    "arr = np.array([1.1, 2.1, 3.1])\n",
    "\n",
    "newarr = arr.astype('i')# make a copy of array  and specify the data type \n",
    "\n",
    "# float to int using i --> int32\n",
    "print(newarr)\n",
    "print(newarr.dtype)"
   ]
  },
  {
   "cell_type": "code",
   "execution_count": 8,
   "id": "187dfe7d-7e3f-4b61-b2bd-f5c08c02295b",
   "metadata": {},
   "outputs": [
    {
     "name": "stdout",
     "output_type": "stream",
     "text": [
      "[1 2 3]\n",
      "int64\n"
     ]
    }
   ],
   "source": [
    "arr = np.array([1.1, 2.1, 3.1])\n",
    "\n",
    "newarr = arr.astype(int)\n",
    "# float to int using int  --> int64\n",
    "\n",
    "print(newarr)\n",
    "print(newarr.dtype)"
   ]
  },
  {
   "cell_type": "code",
   "execution_count": 9,
   "id": "35843ad5-513a-4d61-9b6d-72720c661e24",
   "metadata": {},
   "outputs": [
    {
     "name": "stdout",
     "output_type": "stream",
     "text": [
      "[ True False  True]\n",
      "bool\n"
     ]
    }
   ],
   "source": [
    "arr = np.array([1, 0, 3])\n",
    "\n",
    "newarr = arr.astype(bool)\n",
    "\n",
    "print(newarr)\n",
    "print(newarr.dtype)"
   ]
  },
  {
   "cell_type": "code",
   "execution_count": null,
   "id": "2ca96b5d-5719-4c40-a15d-778e91a63276",
   "metadata": {},
   "outputs": [],
   "source": []
  }
 ],
 "metadata": {
  "kernelspec": {
   "display_name": "Python 3 (ipykernel)",
   "language": "python",
   "name": "python3"
  },
  "language_info": {
   "codemirror_mode": {
    "name": "ipython",
    "version": 3
   },
   "file_extension": ".py",
   "mimetype": "text/x-python",
   "name": "python",
   "nbconvert_exporter": "python",
   "pygments_lexer": "ipython3",
   "version": "3.11.5"
  }
 },
 "nbformat": 4,
 "nbformat_minor": 5
}
