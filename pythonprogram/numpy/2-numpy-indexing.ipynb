{
 "cells": [
  {
   "cell_type": "markdown",
   "id": "7c935b49-ae1f-44c9-88b6-cd0abd49a8f2",
   "metadata": {},
   "source": [
    "Accessing array elementions\n",
    "\n",
    "Array indexing is the same as accessing an array element.\n",
    "\n",
    "You can access an array element by referring to its index number.\n",
    "\n"
   ]
  },
  {
   "cell_type": "code",
   "execution_count": 1,
   "id": "e5adde3c-503e-4c52-80da-60e6ef326d31",
   "metadata": {},
   "outputs": [
    {
     "name": "stdout",
     "output_type": "stream",
     "text": [
      "the 1st element of array is:  11\n"
     ]
    }
   ],
   "source": [
    "# accesing 1st element\n",
    "import numpy as np\n",
    "arr=np.array([11,12,15,19])\n",
    "\n",
    "print(\"the 1st element of array is: \",arr[0])\n"
   ]
  },
  {
   "cell_type": "code",
   "execution_count": 2,
   "id": "f59b4760-c152-41f2-a5e5-2b3905f63983",
   "metadata": {},
   "outputs": [
    {
     "name": "stdout",
     "output_type": "stream",
     "text": [
      "2nd ele of the array is ; 12\n"
     ]
    }
   ],
   "source": [
    "# 2nd element\n",
    "print(\"2nd ele of the array is ;\",arr[1])"
   ]
  },
  {
   "cell_type": "code",
   "execution_count": 3,
   "id": "c2a1279e-42ec-4ba7-ada7-733e79efbd51",
   "metadata": {},
   "outputs": [
    {
     "name": "stdout",
     "output_type": "stream",
     "text": [
      "addition of 3nd  position and 4th pos element is : 34\n"
     ]
    }
   ],
   "source": [
    "# adding 3rd and 4th element of array\n",
    "\n",
    "print(\"addition of 3nd  position and 4th pos element is :\",arr[2]+arr[3])"
   ]
  },
  {
   "cell_type": "markdown",
   "id": "6053f8d1-06b0-47e9-85f8-0d0de0ec840d",
   "metadata": {},
   "source": [
    "Access 2-D Arrays\n",
    "To access elements from 2-D arrays we can use comma separated integers representing the dimension and the index of the element."
   ]
  },
  {
   "cell_type": "code",
   "execution_count": 4,
   "id": "145855a3-b6a7-4025-847c-43002a8f79c8",
   "metadata": {},
   "outputs": [
    {
     "name": "stdout",
     "output_type": "stream",
     "text": [
      "2nd element on 1 st row is : 2\n"
     ]
    }
   ],
   "source": [
    "arr = np.array([[1,2,3,8,9],[4,5,6,7,10]])\n",
    "\n",
    "print(\"2nd element on 1 st row is :\",arr[0,1])"
   ]
  },
  {
   "cell_type": "code",
   "execution_count": 5,
   "id": "e906106b-9a9f-429a-88ec-2532a14c3352",
   "metadata": {},
   "outputs": [
    {
     "name": "stdout",
     "output_type": "stream",
     "text": [
      "5th ele on 4=3ndf row is: 10\n"
     ]
    }
   ],
   "source": [
    "# accesising 2nf row , 5th col\n",
    "print(\"5th ele on 4=3ndf row is:\",arr[1,4])\n"
   ]
  },
  {
   "cell_type": "markdown",
   "id": "89528b68-3117-4411-89f1-7a270883eab7",
   "metadata": {},
   "source": [
    "# Accessing 3- Arrays\n"
   ]
  },
  {
   "cell_type": "code",
   "execution_count": 6,
   "id": "49904277-eba6-411d-8b09-44d0b978aede",
   "metadata": {},
   "outputs": [
    {
     "name": "stdout",
     "output_type": "stream",
     "text": [
      "6\n"
     ]
    }
   ],
   "source": [
    "arr = np.array([[[1, 2, 3], [4, 5, 6]], [[7, 8, 9], [10, 11, 12]]])\n",
    "print(arr[0,1,2])"
   ]
  },
  {
   "cell_type": "code",
   "execution_count": 7,
   "id": "26b483e3-dd23-4314-bef3-2dbf7363a770",
   "metadata": {},
   "outputs": [
    {
     "name": "stdout",
     "output_type": "stream",
     "text": [
      "12\n"
     ]
    }
   ],
   "source": [
    "print(arr[1,1,2])"
   ]
  },
  {
   "cell_type": "markdown",
   "id": "ef6732ff-c087-45c8-a9be-d55fe98c3e13",
   "metadata": {},
   "source": [
    "# negative indexing"
   ]
  },
  {
   "cell_type": "code",
   "execution_count": 8,
   "id": "2862fd55-ff45-435c-9caa-3164928eab53",
   "metadata": {},
   "outputs": [
    {
     "name": "stdout",
     "output_type": "stream",
     "text": [
      "Last element from 2nd dim:  10\n"
     ]
    }
   ],
   "source": [
    "arr = np.array([[1,2,3,4,5], [6,7,8,9,10]])\n",
    "\n",
    "print('Last element from 2nd dim: ', arr[1, -1])"
   ]
  },
  {
   "cell_type": "code",
   "execution_count": null,
   "id": "ebdaa719-1778-4a5e-bff2-374297c2c7e2",
   "metadata": {},
   "outputs": [],
   "source": []
  },
  {
   "cell_type": "code",
   "execution_count": null,
   "id": "49b32f36-eddd-4995-8384-b520473745c0",
   "metadata": {},
   "outputs": [],
   "source": []
  },
  {
   "cell_type": "code",
   "execution_count": null,
   "id": "0bf02147-a0eb-4251-9894-10870530662c",
   "metadata": {},
   "outputs": [],
   "source": []
  },
  {
   "cell_type": "code",
   "execution_count": null,
   "id": "99485863-9f34-4755-bca3-70e2957d75b5",
   "metadata": {},
   "outputs": [],
   "source": []
  }
 ],
 "metadata": {
  "kernelspec": {
   "display_name": "Python 3 (ipykernel)",
   "language": "python",
   "name": "python3"
  },
  "language_info": {
   "codemirror_mode": {
    "name": "ipython",
    "version": 3
   },
   "file_extension": ".py",
   "mimetype": "text/x-python",
   "name": "python",
   "nbconvert_exporter": "python",
   "pygments_lexer": "ipython3",
   "version": "3.11.5"
  }
 },
 "nbformat": 4,
 "nbformat_minor": 5
}
