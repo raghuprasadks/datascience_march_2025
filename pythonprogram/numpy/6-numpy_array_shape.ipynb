{
 "cells": [
  {
   "cell_type": "markdown",
   "id": "6882c220-a426-469c-bdc7-e9f5a1df851a",
   "metadata": {},
   "source": [
    "# NumPy Array Shape"
   ]
  },
  {
   "cell_type": "markdown",
   "id": "1e387933-9ec1-42aa-b5f5-85c82cfb132f",
   "metadata": {},
   "source": [
    "Shape of an Array\n",
    "The shape of an array is the number of elements in each dimension."
   ]
  },
  {
   "cell_type": "markdown",
   "id": "dc788344-2e76-43e9-aedc-517e4b4e144d",
   "metadata": {},
   "source": [
    "# Get the Shape of an Array"
   ]
  },
  {
   "cell_type": "code",
   "execution_count": 1,
   "id": "aa990efb-9aeb-4234-8a82-9e9a0b576e2c",
   "metadata": {},
   "outputs": [
    {
     "name": "stdout",
     "output_type": "stream",
     "text": [
      "(2, 4)\n"
     ]
    }
   ],
   "source": [
    "# print the shape of 2 - d array\n",
    "import numpy as np\n",
    "\n",
    "arr = np.array([[1, 2, 3, 4], [5, 6, 7, 8]])\n",
    "\n",
    "print(arr.shape)  # 1-d has 2 elements and 2-d has 4"
   ]
  },
  {
   "cell_type": "code",
   "execution_count": 2,
   "id": "998cbc3b-187c-4cad-b1e8-f4ddee5bb597",
   "metadata": {},
   "outputs": [
    {
     "name": "stdout",
     "output_type": "stream",
     "text": [
      "[[[[[1 2 3 4]]]]]\n",
      "shape of array : (1, 1, 1, 1, 4)\n"
     ]
    }
   ],
   "source": [
    "# creating 5 -d using ndmin\n",
    "arr = np.array([1, 2, 3, 4], ndmin=5)\n",
    "\n",
    "print(arr)\n",
    "print('shape of array :', arr.shape) # ffrist 4 has 1 elements and last has 4 "
   ]
  },
  {
   "cell_type": "code",
   "execution_count": null,
   "id": "f21840ee-10cf-4d33-a578-6cf3f18c55cd",
   "metadata": {},
   "outputs": [],
   "source": []
  }
 ],
 "metadata": {
  "kernelspec": {
   "display_name": "Python 3 (ipykernel)",
   "language": "python",
   "name": "python3"
  },
  "language_info": {
   "codemirror_mode": {
    "name": "ipython",
    "version": 3
   },
   "file_extension": ".py",
   "mimetype": "text/x-python",
   "name": "python",
   "nbconvert_exporter": "python",
   "pygments_lexer": "ipython3",
   "version": "3.11.5"
  }
 },
 "nbformat": 4,
 "nbformat_minor": 5
}
