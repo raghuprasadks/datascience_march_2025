{
 "cells": [
  {
   "cell_type": "markdown",
   "id": "b2c13ad0-38d3-4f59-a206-ef1d0c3b8b4f",
   "metadata": {},
   "source": [
    "\n",
    "\n",
    "\n",
    "# Numpy array slicing"
   ]
  },
  {
   "cell_type": "markdown",
   "id": "67f0c914-4425-42e6-8559-a49e7e498da8",
   "metadata": {},
   "source": [
    "Slicing in python means taking elements from one given index to another given index.\n",
    "\n",
    "We pass slice instead of index like this: [start:end].\n",
    "\n",
    "We can also define the step, like this: [start:end:step].\n",
    "\n",
    "If we don't pass start its considered 0\n",
    "\n",
    "If we don't pass end its considered length of array in that dimension\n",
    "\n",
    "If we don't pass step its considered 1"
   ]
  },
  {
   "cell_type": "code",
   "execution_count": 1,
   "id": "4005257b-6554-429f-9f40-9ee50905ff95",
   "metadata": {},
   "outputs": [
    {
     "name": "stdout",
     "output_type": "stream",
     "text": [
      "[2 3 4 5]\n"
     ]
    }
   ],
   "source": [
    "# slicing ele from index 1 to index 5\n",
    "import  numpy as np\n",
    "\n",
    "arr=np.array([1,2,3,4,5,6,7])\n",
    "print(arr[1:5])  # starts with 2 and ends before 6"
   ]
  },
  {
   "cell_type": "code",
   "execution_count": 2,
   "id": "498414c4-23c4-4290-8ad5-663e30063014",
   "metadata": {},
   "outputs": [
    {
     "name": "stdout",
     "output_type": "stream",
     "text": [
      "[5 6 7]\n"
     ]
    }
   ],
   "source": [
    "# slice elements from index 4 to end\n",
    "print(arr[4:])"
   ]
  },
  {
   "cell_type": "code",
   "execution_count": 3,
   "id": "d68d2d6a-ab4e-4b65-bf6d-061f554fcf03",
   "metadata": {},
   "outputs": [
    {
     "name": "stdout",
     "output_type": "stream",
     "text": [
      "[1 2 3 4]\n"
     ]
    }
   ],
   "source": [
    "# slicing from begining to index 4\n",
    "\n",
    "print(arr[:4])\n"
   ]
  },
  {
   "cell_type": "markdown",
   "id": "cd607706-984a-46d5-ad48-8c36132c5c83",
   "metadata": {},
   "source": [
    "# Negative slicing"
   ]
  },
  {
   "cell_type": "code",
   "execution_count": 4,
   "id": "6358c256-9f8d-4835-a81c-4294a5f54ec4",
   "metadata": {},
   "outputs": [
    {
     "name": "stdout",
     "output_type": "stream",
     "text": [
      "[5 6]\n"
     ]
    }
   ],
   "source": [
    "# slice from index 3 from end to index 1 from the end\n",
    "print(arr[-3:-1])"
   ]
  },
  {
   "cell_type": "markdown",
   "id": "e9d4bec8-60fe-4f2a-8680-5e2d8beed87a",
   "metadata": {},
   "source": [
    "Use the step value to determine the step of the slicing:\n"
   ]
  },
  {
   "cell_type": "code",
   "execution_count": 5,
   "id": "930ccf7b-07bb-4683-bc18-97259ebd65c1",
   "metadata": {},
   "outputs": [
    {
     "name": "stdout",
     "output_type": "stream",
     "text": [
      "[2 4]\n"
     ]
    }
   ],
   "source": [
    "# returing every other elemnt from 1 to index 5\n",
    "print(arr[1:5:2])"
   ]
  },
  {
   "cell_type": "markdown",
   "id": "a5885669-6725-46b7-815e-6b3a2b546fd0",
   "metadata": {},
   "source": [
    "# SLicing 2-D array,"
   ]
  },
  {
   "cell_type": "code",
   "execution_count": 2,
   "id": "74505719-b2f2-4b13-ad5f-8484490056a2",
   "metadata": {},
   "outputs": [
    {
     "name": "stdout",
     "output_type": "stream",
     "text": [
      "[7 8 9]\n"
     ]
    }
   ],
   "source": [
    "import numpy as np\n",
    "arr=np.array([[1,2,3,4,5],[6,7,8,9,10]])\n",
    "print(arr[1,1:4])"
   ]
  },
  {
   "cell_type": "code",
   "execution_count": 7,
   "id": "f26a15f4-ddea-4d20-b2a3-da93071d9a80",
   "metadata": {},
   "outputs": [
    {
     "name": "stdout",
     "output_type": "stream",
     "text": [
      "[3 8]\n"
     ]
    }
   ],
   "source": [
    "# from both element return ele of index 2\n",
    "\n",
    "print(arr[0:2,2])"
   ]
  },
  {
   "cell_type": "code",
   "execution_count": 8,
   "id": "9078e3f4-57a1-4a24-aa6c-7222d1d02481",
   "metadata": {},
   "outputs": [
    {
     "name": "stdout",
     "output_type": "stream",
     "text": [
      "[[2 3 4]\n",
      " [7 8 9]]\n"
     ]
    }
   ],
   "source": [
    "# from both elements slicing  dfferently\n",
    "arr=np.array([[1,2,3,4,5],[6,7,8,9,10]])\n",
    "\n",
    "print(arr[0:2,1:4])"
   ]
  },
  {
   "cell_type": "code",
   "execution_count": null,
   "id": "ebdaa719-1778-4a5e-bff2-374297c2c7e2",
   "metadata": {},
   "outputs": [],
   "source": []
  },
  {
   "cell_type": "code",
   "execution_count": null,
   "id": "b1bb5e47-939b-4eeb-9952-8083fdf08776",
   "metadata": {},
   "outputs": [],
   "source": []
  },
  {
   "cell_type": "code",
   "execution_count": 2,
   "id": "579d0164-ff67-4116-90c6-b97102ba4f88",
   "metadata": {},
   "outputs": [
    {
     "name": "stdout",
     "output_type": "stream",
     "text": [
      "Element at (2,3): 6\n",
      "First row: [1 2 3]\n",
      "Second column: [2 5 8]\n",
      "Bottom-right 2x2 submatrix:\n",
      " [[5 6]\n",
      " [8 9]]\n"
     ]
    }
   ],
   "source": [
    "import numpy as np\n",
    "\n",
    "# Step 1: Create the 2D array\n",
    "arr = np.array([[1, 2, 3], \n",
    "                [4, 5, 6], \n",
    "                [7, 8, 9]])\n",
    "\n",
    "# Step 2: Perform indexing operations\n",
    "element = arr[1, 2]   # 2nd row, 3rd column (Indexing starts from 0)\n",
    "first_row = arr[0, :] # Extract first row\n",
    "second_col = arr[:, 1] # Extract second column\n",
    "submatrix = arr[1:, 1:] # Extract bottom-right 2x2 matrix\n",
    "\n",
    "# Step 3: Print results\n",
    "print(\"Element at (2,3):\", element)\n",
    "print(\"First row:\", first_row)\n",
    "print(\"Second column:\", second_col)\n",
    "print(\"Bottom-right 2x2 submatrix:\\n\", submatrix)\n"
   ]
  },
  {
   "cell_type": "code",
   "execution_count": 1,
   "id": "d605d8f6-ab76-4cc6-8d03-892e10a0b7f3",
   "metadata": {},
   "outputs": [
    {
     "name": "stdout",
     "output_type": "stream",
     "text": [
      "Element at (2,3): 70\n",
      "First row: [10 20 30 40]\n",
      "Third column: [ 30  70 110]\n",
      "Bottom-right 2x2 submatrix:\n",
      " [[ 70  80]\n",
      " [110 120]]\n",
      "First two rows & first three columns:\n",
      " [[10 20 30]\n",
      " [50 60 70]]\n"
     ]
    }
   ],
   "source": [
    "import numpy as np\n",
    "\n",
    "# Step 1: Create the 3×4 array\n",
    "arr = np.array([[10, 20, 30, 40], \n",
    "                [50, 60, 70, 80], \n",
    "                [90, 100, 110, 120]])\n",
    "\n",
    "# Step 2: Perform indexing & slicing\n",
    "element = arr[1, 2]   # 2nd row, 3rd column (Indexing starts from 0)\n",
    "first_row = arr[0, :] # Extract first row\n",
    "third_col = arr[:, 2] # Extract third column\n",
    "submatrix = arr[1:, 2:] # Extract bottom-right 2x2 submatrix\n",
    "slice_part = arr[:2, :3] # Extract first two rows and first three columns\n",
    "\n",
    "# Step 3: Print results\n",
    "print(\"Element at (2,3):\", element)\n",
    "print(\"First row:\", first_row)\n",
    "print(\"Third column:\", third_col)\n",
    "print(\"Bottom-right 2x2 submatrix:\\n\", submatrix)\n",
    "print(\"First two rows & first three columns:\\n\", slice_part)\n"
   ]
  },
  {
   "cell_type": "code",
   "execution_count": null,
   "id": "ff2f0791-0500-490e-8d5c-edc34e1dae7c",
   "metadata": {},
   "outputs": [],
   "source": []
  }
 ],
 "metadata": {
  "kernelspec": {
   "display_name": "Python 3 (ipykernel)",
   "language": "python",
   "name": "python3"
  },
  "language_info": {
   "codemirror_mode": {
    "name": "ipython",
    "version": 3
   },
   "file_extension": ".py",
   "mimetype": "text/x-python",
   "name": "python",
   "nbconvert_exporter": "python",
   "pygments_lexer": "ipython3",
   "version": "3.11.5"
  }
 },
 "nbformat": 4,
 "nbformat_minor": 5
}
