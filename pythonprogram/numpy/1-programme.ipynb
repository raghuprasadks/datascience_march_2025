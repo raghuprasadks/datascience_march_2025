{
 "cells": [
  {
   "cell_type": "code",
   "execution_count": 5,
   "id": "f214ea7f-2f68-4f73-913b-f9f30aa1d55e",
   "metadata": {},
   "outputs": [
    {
     "name": "stdout",
     "output_type": "stream",
     "text": [
      " B grade\n",
      "A grade\n",
      " B grade\n"
     ]
    }
   ],
   "source": [
    "list1=[80,90,85]\n",
    "for num in list1:\n",
    "    if num>=90:\n",
    "        print(\"A grade\")\n",
    "    elif num<90:\n",
    "        print(\" B grade\")\n",
    "    else:\n",
    "        print(\"c grade\")"
   ]
  },
  {
   "cell_type": "code",
   "execution_count": null,
   "id": "dc1a1d93-db67-4630-936a-37df76be354a",
   "metadata": {},
   "outputs": [],
   "source": []
  }
 ],
 "metadata": {
  "kernelspec": {
   "display_name": "Python 3 (ipykernel)",
   "language": "python",
   "name": "python3"
  },
  "language_info": {
   "codemirror_mode": {
    "name": "ipython",
    "version": 3
   },
   "file_extension": ".py",
   "mimetype": "text/x-python",
   "name": "python",
   "nbconvert_exporter": "python",
   "pygments_lexer": "ipython3",
   "version": "3.11.5"
  }
 },
 "nbformat": 4,
 "nbformat_minor": 5
}
